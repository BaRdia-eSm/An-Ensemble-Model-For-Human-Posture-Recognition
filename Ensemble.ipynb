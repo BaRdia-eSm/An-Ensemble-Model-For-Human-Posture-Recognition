{
  "cells": [
    {
      "cell_type": "code",
      "execution_count": 2,
      "metadata": {
        "id": "lIWOzyNeYCPe"
      },
      "outputs": [],
      "source": [
        "import numpy as np\n",
        "from sklearn.metrics import accuracy_score, confusion_matrix, precision_recall_fscore_support\n",
        "import matplotlib.pyplot as plt\n",
        "import seaborn as sns\n",
        "import pandas as pd\n",
        "from sklearn.metrics import classification_report\n",
        "from keras.applications import VGG16\n",
        "from tensorflow.python.keras.callbacks import EarlyStopping, ModelCheckpoint\n",
        "import keras\n",
        "from xgboost import XGBClassifier\n",
        "from keras.preprocessing.image import ImageDataGenerator"
      ]
    },
    {
      "cell_type": "markdown",
      "metadata": {},
      "source": [
        "The features that have been selected by evaluating the importance of the features. They include the coordinates of the human joints, the angles between ajacent limbs and the distance metrics between pairs of joints."
      ]
    },
    {
      "cell_type": "code",
      "execution_count": null,
      "metadata": {
        "colab": {
          "base_uri": "https://localhost:8080/",
          "height": 34
        },
        "id": "3sRS6JFraMix",
        "outputId": "38b5d8ef-3449-4673-927c-aeac39ecfa9c"
      },
      "outputs": [
        {
          "name": "stdout",
          "output_type": "stream",
          "text": [
            "coor 22 - dis 17 - angel 8 - all 47\n"
          ]
        }
      ],
      "source": [
        "a = ['3_7', '1_4', '4_6', '3_14', '2_7', '7_8', '14_15', '3_8', '7_11', '6_17', '4_8', '3_11', '3_6', '4_11', '5_6', '6_8', '1_5', '0_15', \n",
        "     '4_5', '6_11', '16_17', '4_7', '2_3_4', '1_5_6', '5_6_7', '0_1_2', '1_2_3', '1_5_11', '1_2_8', '0_1_5', '7_x', '7_y', '6_x', '8_y', \n",
        "     '6_y', '11_x', '1_x', '4_x', '2_x', '3_y', '16_x', '4_y', '17_x', '5_y', '8_x', '16_y', '5_x']\n",
        "\n",
        "dis = ['3_7', '1_4', '4_6', '3_14', '2_7', '7_8', '14_15', '3_8', '7_11', '6_17', '4_8', '3_11', '3_6', '4_11', '5_6', '6_8', '1_5', '0_15', \n",
        "     '4_5', '6_11', '16_17', '4_7']\n",
        "coor = ['7_x', '7_y', '6_x', '8_y', '6_y', '11_x', '1_x', '4_x', '2_x', '3_y', '16_x', '4_y', '17_x', '5_y', '8_x', '16_y', '5_x']\n",
        "angle = ['2_3_4', '1_5_6', '5_6_7', '0_1_2', '1_2_3', '1_5_11', '1_2_8', '0_1_5', ]\n",
        "print('coor {} - dis {} - angel {} - all {}'.format(len(dis), len(coor), len(angle), len(dis) + len(coor) + len(angle)))"
      ]
    },
    {
      "cell_type": "markdown",
      "metadata": {
        "id": "aXZtryyJZqlE"
      },
      "source": [
        "Define the VGG16 model as one of the resources of data for ensemble-based action recognition."
      ]
    },
    {
      "cell_type": "code",
      "execution_count": null,
      "metadata": {
        "id": "BcVHNid4IUAn"
      },
      "outputs": [],
      "source": [
        "from keras import models\n",
        "from keras import layers\n",
        "from keras import optimizers\n",
        "\n",
        "conv_base = VGG16(weights='imagenet', include_top=False, input_shape=(150, 150, 3))\n",
        "model1 = models.Sequential()\n",
        "model1.add(conv_base)\n",
        "model1.add(layers.Flatten())\n",
        "model1.add(layers.Dense(256, activation='relu'))\n",
        "model1.add(layers.Dense(5, activation='softmax'))\n",
        "\n",
        "conv_base.trainable = True\n",
        "\n",
        "set_trainable = False\n",
        "for layer in conv_base.layers:\n",
        "    if layer.name == 'block5_conv1':\n",
        "        set_trainable = True\n",
        "    if set_trainable:\n",
        "        layer.trainable = True\n",
        "    else:\n",
        "        layer.trainable = False"
      ]
    },
    {
      "cell_type": "markdown",
      "metadata": {
        "id": "cGptv_O1IZpX"
      },
      "source": [
        "Load the weights for the VGG16 model that has been trained on the Image-based action recognition dataset."
      ]
    },
    {
      "cell_type": "code",
      "execution_count": null,
      "metadata": {
        "id": "dgpjEz8RI8KJ"
      },
      "outputs": [],
      "source": [
        "model1.compile(loss='categorical_crossentropy', optimizer=optimizers.RMSprop(lr=1e-5), metrics=['acc'])\n",
        "model1.load_weights('Models/VGG16_action_weights.h5')"
      ]
    },
    {
      "cell_type": "markdown",
      "metadata": {},
      "source": [
        "Load the image the image-based dataset."
      ]
    },
    {
      "cell_type": "code",
      "execution_count": null,
      "metadata": {
        "colab": {
          "base_uri": "https://localhost:8080/",
          "height": 66
        },
        "id": "8TBC_MSiXqJk",
        "outputId": "9bd8474d-fd4c-41c2-aee6-babd9e63e7be"
      },
      "outputs": [
        {
          "name": "stdout",
          "output_type": "stream",
          "text": [
            "Found 1315 images belonging to 5 classes.\n",
            "Found 330 images belonging to 5 classes.\n",
            "Found 410 images belonging to 5 classes.\n"
          ]
        }
      ],
      "source": [
        "train_datagen = ImageDataGenerator(rescale=1./255)\n",
        "test_datagen = ImageDataGenerator(rescale=1./255)\n",
        "\n",
        "train_generator = train_datagen.flow_from_directory('Dataset/train', target_size=(150, 150), batch_size=32, class_mode='categorical', shuffle=False)\n",
        "validation_generator = test_datagen.flow_from_directory('Dataset/validation', target_size=(150, 150), batch_size=32, class_mode='categorical', shuffle=False)\n",
        "test_generator = test_datagen.flow_from_directory('Dataset/test', target_size=(150, 150), batch_size=32, class_mode='categorical', shuffle=False)"
      ]
    },
    {
      "cell_type": "code",
      "execution_count": 3,
      "metadata": {
        "colab": {
          "base_uri": "https://localhost:8080/",
          "height": 361
        },
        "id": "JLuyFgLnYAJZ",
        "outputId": "faa4206b-2c6b-48aa-b179-a57e5b066054"
      },
      "outputs": [],
      "source": [
        "x1, y1 = zip(*(train_generator[i] for i in range(len(train_generator))))\n",
        "X_train1, Y_train1 = np.vstack(x1), np.vstack(y1)\n",
        "\n",
        "x1, y1 = zip(*(validation_generator[i] for i in range(len(validation_generator))))\n",
        "X_val1, Y_val1 = np.vstack(x1), np.vstack(y1)\n",
        "\n",
        "x1, y1 = zip(*(test_generator[i] for i in range(len(test_generator))), test_generator.filenames)\n",
        "X_test1, Y_test1 = np.vstack(x1), np.vstack(y1)"
      ]
    },
    {
      "cell_type": "code",
      "execution_count": 4,
      "metadata": {
        "colab": {
          "base_uri": "https://localhost:8080/",
          "height": 1000
        },
        "id": "6-uS8N_VmM5d",
        "outputId": "d9d20d89-f043-4652-facd-9a9bfc0824f3"
      },
      "outputs": [],
      "source": [
        "X_train1, y_train1, img_add = [], [], []\n",
        "counter = 0\n",
        "for idx1, (x, y) in enumerate(train_generator):\n",
        "  for idx2, (i, j) in enumerate(zip(x, y)):\n",
        "    print(i.shape)\n",
        "    X_train1.append(model1.predict(np.expand_dims(i, axis=0)))\n",
        "    y_train1.append(j)\n",
        "#     print(idx1 * 32 + idx2)\n",
        "    img_add.append(train_generator.filenames[counter])\n",
        "    counter += 1\n",
        "    if counter == 1315:\n",
        "      break\n",
        "      \n",
        "  if counter == 1315:\n",
        "    break\n",
        "\n",
        "\n",
        "X_val1, y_val1, img_val_add = [], [], []\n",
        "counter = 0\n",
        "for idx1, (x, y) in enumerate(validation_generator):\n",
        "  for idx2, (i, j) in enumerate(zip(x, y)):\n",
        "    print(i.shape)\n",
        "    X_val1.append(model1.predict(np.expand_dims(i, axis=0)))\n",
        "    y_val1.append(j)\n",
        "    img_val_add.append(validation_generator.filenames[counter])\n",
        "    counter += 1\n",
        "    if counter == 330:\n",
        "      break\n",
        "      \n",
        "  if counter == 330:\n",
        "    break\n",
        "\n",
        "\n",
        "X_test1, y_test1, img_test_add = [], [], []\n",
        "counter = 0\n",
        "for idx1, (x, y) in enumerate(test_generator):\n",
        "  for idx2, (i, j) in enumerate(zip(x, y)):\n",
        "    print(i.shape)\n",
        "    X_test1.append(model1.predict(np.expand_dims(i, axis=0)))\n",
        "    y_test1.append(j)\n",
        "    img_test_add.append(test_generator.filenames[counter])\n",
        "    counter += 1\n",
        "    if counter == 410:\n",
        "      break\n",
        "      \n",
        "  if counter == 410:\n",
        "    break"
      ]
    },
    {
      "cell_type": "code",
      "execution_count": null,
      "metadata": {
        "id": "M9YamTh1pcfu"
      },
      "outputs": [],
      "source": [
        "X_train1 = X_train1 + X_val1\n",
        "img_add = img_add + img_val_add\n",
        "y_train1 = y_train1 + y_val1"
      ]
    },
    {
      "cell_type": "markdown",
      "metadata": {},
      "source": [
        "Data for All Angles and All Dist and All Scaled Coordinations for Five-class Dataset"
      ]
    },
    {
      "cell_type": "code",
      "execution_count": null,
      "metadata": {
        "id": "0Inbup2iEN1U"
      },
      "outputs": [],
      "source": [
        "train_csv = pd.read_csv(r\"Dataset/allDist_allAngles_allScaled_train.csv\")\n",
        "train_csv_copy = train_csv.copy()\n",
        "train_csv_copy = train_csv_copy.sample(frac=1, random_state=42)\n",
        "\n",
        "test_csv = pd.read_csv(r\"Dataset/allDist_allAngles_allScaled_test.csv\")\n",
        "test_csv_copy = test_csv.copy()\n",
        "test_csv_copy = test_csv_copy.sample(frac=1, random_state=42)"
      ]
    },
    {
      "cell_type": "code",
      "execution_count": 5,
      "metadata": {
        "colab": {
          "base_uri": "https://localhost:8080/",
          "height": 135
        },
        "id": "RjPdFwWKD19t",
        "outputId": "f1fe0838-f1bb-4b12-c4bd-864a172c776a"
      },
      "outputs": [],
      "source": [
        "from numpy import sort\n",
        "from sklearn.utils import shuffle\n",
        "\n",
        "zipped = zip(img_add, X_train1, y_train1)\n",
        "zipped = sorted(zipped)\n",
        "img_add_temp, X_train1_temp, y_train1_temp = zip(*zipped)\n",
        "train_csv_copy.sort_values('img_address', inplace=True)\n",
        "img_add_temp = [i.split('/')[-1] for i in img_add_temp]\n",
        "train_csv_copy['img_address'] = train_csv_copy['img_address'].str.split('/').str[-1]\n",
        "\n",
        "zipped = zip(img_test_add, X_test1, y_test1)\n",
        "zipped = sorted(zipped)\n",
        "img_test_add_temp, X_test1_temp, y_test1_temp = zip(*zipped)\n",
        "test_csv_copy.sort_values('img_address', inplace=True)\n",
        "img_test_add_temp = [i.split('/')[-1] for i in img_test_add_temp]\n",
        "test_csv_copy['img_address'] = test_csv_copy['img_address'].str.split('/').str[-1]\n",
        "\n",
        "train_csv_copy = train_csv_copy.sample(frac=1, random_state=42)\n",
        "test_csv_copy = test_csv_copy.sample(frac=1, random_state=42)\n",
        "\n",
        "temp = list(zip(img_add_temp, X_train1_temp, y_train1_temp))\n",
        "temp = shuffle(temp, random_state=42)\n",
        "img_add_temp, X_train1_temp, y_train1_temp = zip(*temp)\n",
        "img_add_temp = list(img_add_temp)\n",
        "\n",
        "\n",
        "temp = list(zip(img_test_add_temp, X_test1_temp, y_test1_temp))\n",
        "temp = shuffle(temp, random_state=42)\n",
        "img_test_add_temp, X_test1_temp, y_test1_temp = zip(*temp)\n",
        "img_test_add_temp = list(img_test_add_temp)"
      ]
    },
    {
      "cell_type": "code",
      "execution_count": 6,
      "metadata": {
        "colab": {
          "base_uri": "https://localhost:8080/",
          "height": 1000
        },
        "id": "xgKCAFINMlgP",
        "outputId": "95e2dda6-97e5-48af-cf9a-4d263eb729bc"
      },
      "outputs": [],
      "source": [
        "test_datagen = ImageDataGenerator(rescale=1./255)\n",
        "\n",
        "test_generator = test_datagen.flow_from_directory('Dataset/test2', target_size=(150, 150), batch_size=32, class_mode='categorical', shuffle=False)\n",
        "\n",
        "X_test1, y_test1, img_test_add = [], [], []\n",
        "counter = 0\n",
        "for idx1, (x, y) in enumerate(test_generator):\n",
        "  for idx2, (i, j) in enumerate(zip(x, y)):\n",
        "    print(i.shape)\n",
        "    X_test1.append(model1.predict(np.expand_dims(i, axis=0)))\n",
        "    y_test1.append(j)\n",
        "\n",
        "    img_test_add.append(test_generator.filenames[counter])\n",
        "    counter += 1\n",
        "    if counter == 527:\n",
        "      break\n",
        "      \n",
        "  if counter == 527:\n",
        "    break"
      ]
    },
    {
      "cell_type": "code",
      "execution_count": null,
      "metadata": {
        "id": "FSsGWImtYZ7G"
      },
      "outputs": [],
      "source": [
        "X_train2 = train_csv_copy.drop(['img_address', 'action_class'], axis=1)\n",
        "y_train2 = train_csv_copy.action_class\n",
        "\n",
        "X_test2 = test_csv_copy.drop(['img_address', 'action_class'], axis=1)\n",
        "y_test2 = test_csv_copy.action_class"
      ]
    },
    {
      "cell_type": "markdown",
      "metadata": {},
      "source": [
        "Best features for All Angles and All Dist and All Scaled Coordinations for Five-class Dataset"
      ]
    },
    {
      "cell_type": "code",
      "execution_count": null,
      "metadata": {
        "id": "9dtIfLlWYeHT"
      },
      "outputs": [],
      "source": [
        "X_train2 = X_train2[['3_7', '1_4', '4_6', '3_14', '2_7', '7_8', '14_15', '3_8', '7_11', '6_17', '4_8', '3_11', '3_6', '4_11', '5_6', '6_8', '1_5', '0_15', '4_5', '6_11', '16_17', '4_7', '2_3_4', '1_5_6', '5_6_7', '0_1_2', '1_2_3', '1_5_11', '1_2_8', '0_1_5', '7_x', '7_y', '6_x', '8_y', '6_y', '11_x', '1_x', '4_x', '2_x', '3_y', '16_x', '4_y', '17_x', '5_y', '8_x', '16_y', '5_x']]\n",
        "X_test2 = X_test2[['3_7', '1_4', '4_6', '3_14', '2_7', '7_8', '14_15', '3_8', '7_11', '6_17', '4_8', '3_11', '3_6', '4_11', '5_6', '6_8', '1_5', '0_15', '4_5', '6_11', '16_17', '4_7', '2_3_4', '1_5_6', '5_6_7', '0_1_2', '1_2_3', '1_5_11', '1_2_8', '0_1_5', '7_x', '7_y', '6_x', '8_y', '6_y', '11_x', '1_x', '4_x', '2_x', '3_y', '16_x', '4_y', '17_x', '5_y', '8_x', '16_y', '5_x']]"
      ]
    },
    {
      "cell_type": "markdown",
      "metadata": {},
      "source": [
        "Params for Training all Angles all Dist all coordinates scaled best features on Five-class Dataset with 200 comb"
      ]
    },
    {
      "cell_type": "code",
      "execution_count": null,
      "metadata": {
        "id": "OGweoSWNYmdp"
      },
      "outputs": [],
      "source": [
        "model2 = XGBClassifier(subsample=0.8, n_estimators=150, min_child_weight=1, max_depth=4, learning_rate=0.05, gamma=1, colsample_bytree=0.6, objective='multi:softmax', silent=True, num_class=5)"
      ]
    },
    {
      "cell_type": "code",
      "execution_count": null,
      "metadata": {
        "id": "F6ePzAFUYo_-"
      },
      "outputs": [],
      "source": [
        "model2 = model2.fit(X_train2, y_train2)"
      ]
    },
    {
      "cell_type": "code",
      "execution_count": null,
      "metadata": {
        "colab": {
          "base_uri": "https://localhost:8080/",
          "height": 33
        },
        "id": "r_ittJ4x4D2X",
        "outputId": "018ac29e-82df-485b-d675-30d2b97a9f68"
      },
      "outputs": [
        {
          "name": "stdout",
          "output_type": "stream",
          "text": [
            "(1645, 5)\n"
          ]
        }
      ],
      "source": [
        "X_train2_temp = model2.predict_proba(X_train2)\n",
        "X_test2_temp = model2.predict_proba(X_test2)"
      ]
    },
    {
      "cell_type": "markdown",
      "metadata": {},
      "source": [
        "Create the stacked dataset as input for the ensemble model."
      ]
    },
    {
      "cell_type": "code",
      "execution_count": null,
      "metadata": {
        "colab": {
          "base_uri": "https://localhost:8080/",
          "height": 98
        },
        "id": "9FaqZQmdEHg8",
        "outputId": "3277297b-9243-4607-c90b-ed55c2f50a0f"
      },
      "outputs": [
        {
          "name": "stdout",
          "output_type": "stream",
          "text": [
            "[7.2514237e-04 5.4738135e-03 9.9193853e-01 1.0151033e-03 8.4745727e-04]\n",
            "(410, 5)\n",
            "[[1.2589811e-04 9.8778802e-01 6.2186189e-04 1.3425935e-04 1.1329971e-02]]\n",
            "(1645, 10)\n",
            "(410, 10)\n"
          ]
        }
      ],
      "source": [
        "stack_train_X = np.dstack((X_train2_temp, np.reshape(list(X_train1_temp), (1645, 5))))\n",
        "stack_train_X = stack_train_X.reshape((stack_train_X.shape[0], stack_train_X.shape[1]*stack_train_X.shape[2]))\n",
        "\n",
        "stack_test_X = np.dstack((X_test2_temp, np.reshape(list(X_test1_temp), (410, 5))))\n",
        "stack_test_X = stack_test_X.reshape((stack_test_X.shape[0], stack_test_X.shape[1]*stack_test_X.shape[2]))"
      ]
    },
    {
      "cell_type": "code",
      "execution_count": null,
      "metadata": {
        "id": "pKNNwsTwkkN_"
      },
      "outputs": [],
      "source": [
        "from sklearn.datasets.samples_generator import make_blobs\n",
        "from sklearn.metrics import accuracy_score\n",
        "from sklearn.linear_model import LogisticRegression\n",
        "from keras.models import load_model\n",
        "from keras.utils import to_categorical\n",
        "from numpy import dstack"
      ]
    },
    {
      "cell_type": "markdown",
      "metadata": {},
      "source": [
        "Train a Logistic Regression model over the ensembled dataset."
      ]
    },
    {
      "cell_type": "code",
      "execution_count": 7,
      "metadata": {
        "colab": {
          "base_uri": "https://localhost:8080/",
          "height": 183
        },
        "id": "bPwpjmchczGN",
        "outputId": "5bbd682e-59f1-4d80-d358-8b0d7ea582ac"
      },
      "outputs": [],
      "source": [
        "model = LogisticRegression()\n",
        "model.fit(stack_train_X, y_train2)\n",
        "\n",
        "import pickle\n",
        "pickle.dump(model, open('Models/ensemble.sav', 'wb'))\n",
        "\n",
        "y_pred = model.predict(stack_test_X)\n",
        "y_pred_prob = model.predict_proba(stack_test_X)\n",
        "print('Accuracy of logistic regression classifier on test set: {:.2f}'.format(model.score(stack_test_X, y_test2)))"
      ]
    },
    {
      "cell_type": "markdown",
      "metadata": {},
      "source": [
        "Visualizing the Confusion Matrix"
      ]
    },
    {
      "cell_type": "code",
      "execution_count": null,
      "metadata": {
        "colab": {
          "base_uri": "https://localhost:8080/",
          "height": 380
        },
        "id": "UMomlFMXAma3",
        "outputId": "3f6ba52e-18bc-4496-b787-c34c05c547f6"
      },
      "outputs": [
        {
          "data": {
            "image/png": "[encoded data removed]",
            "text/plain": [
              "<Figure size 396x288 with 2 Axes>"
            ]
          },
          "metadata": {
            "tags": []
          },
          "output_type": "display_data"
        }
      ],
      "source": [
        "import numpy as np\n",
        "from sklearn.metrics import accuracy_score, confusion_matrix, precision_recall_fscore_support\n",
        "import matplotlib.pyplot as plt\n",
        "import seaborn as sns\n",
        "import pandas as pd\n",
        "from sklearn.metrics import classification_report\n",
        "\n",
        "\n",
        "Y_pred = np.argmax(y_pred_prob, axis=1)\n",
        "Y_test = np.argmax(y_test1_temp, axis=1)\n",
        "\n",
        "target_names = ['arms crossed', 'arms up', 'arms wide open', 'hands on hips', 'neutral']\n",
        "\n",
        "cm = confusion_matrix(Y_test, Y_pred)\n",
        "\n",
        "cm_df = pd.DataFrame(cm, index = ['arms crossed', 'arms up', 'arms wide open', 'hands on hips', 'neutral'], columns = ['arms crossed', 'arms up', 'arms wide open', 'hands on hips', 'neutral'])\n",
        "\n",
        "\n",
        "fig = plt.figure(figsize=(5.5,4))\n",
        "sns.heatmap(cm_df, annot=True)\n",
        "plt.title('five class Ensemble Model\\nAccuracy:{0:.3f}'.format(accuracy_score(Y_test, Y_pred))).set_color('white')\n",
        "plt.ylabel('True label').set_color('white')\n",
        "plt.xlabel('Predicted label').set_color('white')\n",
        "#plt.xaxis.label.set_color('White')\n",
        "plt.tick_params(axis='x', colors='white')\n",
        "plt.tick_params(axis='y', colors='white')\n",
        "plt.show()"
      ]
    },
    {
      "cell_type": "markdown",
      "metadata": {},
      "source": [
        "Showing the misclassified samples based on their class"
      ]
    },
    {
      "cell_type": "code",
      "execution_count": null,
      "metadata": {
        "colab": {
          "base_uri": "https://localhost:8080/",
          "height": 407
        },
        "id": "c2vht9Jtkoas",
        "outputId": "40c4bd63-6b5a-4e03-a781-dc9b4d08fa1f"
      },
      "outputs": [
        {
          "name": "stdout",
          "output_type": "stream",
          "text": [
            "410\n",
            "410\n",
            "410\n",
            "armsWideOpen_571.jpg\n",
            "--------\n",
            "handsOnHips_421.png\n",
            "handsOnHips_261.jpg\n",
            "neutral_237.jpg\n",
            "--------\n",
            "armsUp_187.jpg\n",
            "---------\n",
            "neutral_276.jpeg\n",
            "armsCrossed_275.jpg\n",
            "armsUp_516.jpeg\n",
            "armsUp_154.jpg\n",
            "armsWideOpen_278.jpg\n",
            "armsCrossed_373.jpg\n",
            "armsWideOpen_249.jpg\n",
            "--------\n",
            "handsOnHips_494.jpg\n",
            "armsCrossed_156.jpg\n",
            "armsWideOpen_568.jpg\n",
            "handsOnHips_125.jpg\n",
            "handsOnHips_161.jpg\n"
          ]
        }
      ],
      "source": [
        "for i, j, k in zip(Y_pred, Y_test, img_test_add_temp):\n",
        "  if i != j and i == 0:\n",
        "    print(k)\n",
        "print('--------')\n",
        "\n",
        "for i, j, k in zip(Y_pred, Y_test, img_test_add_temp):\n",
        "  if i != j and i == 1:\n",
        "    print(k)\n",
        "print('--------')\n",
        "\n",
        "for i, j, k in zip(Y_pred, Y_test, img_test_add_temp):\n",
        "  if i != j and i == 2:\n",
        "    print(k)\n",
        "print('---------')\n",
        "\n",
        "for i, j, k in zip(Y_pred, Y_test, img_test_add_temp):\n",
        "  if i != j and i == 3:\n",
        "    print(k)\n",
        "\n",
        "print('--------')\n",
        "for i, j, k in zip(Y_pred, Y_test, img_test_add_temp):\n",
        "  if i != j and i == 4:\n",
        "    print(k)"
      ]
    }
  ],
  "metadata": {
    "accelerator": "GPU",
    "colab": {
      "collapsed_sections": [],
      "name": "Ensemble.ipynb",
      "provenance": []
    },
    "kernelspec": {
      "display_name": "Python 3",
      "name": "python3"
    },
    "language_info": {
      "codemirror_mode": {
        "name": "ipython",
        "version": 3
      },
      "file_extension": ".py",
      "mimetype": "text/x-python",
      "name": "python",
      "nbconvert_exporter": "python",
      "pygments_lexer": "ipython3",
      "version": "3.7.10"
    }
  },
  "nbformat": 4,
  "nbformat_minor": 0
}
